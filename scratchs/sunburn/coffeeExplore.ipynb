{
 "cells": [
  {
   "cell_type": "code",
   "execution_count": 1,
   "metadata": {},
   "outputs": [],
   "source": [
    "import pandas as pd"
   ]
  },
  {
   "cell_type": "code",
   "execution_count": 2,
   "metadata": {},
   "outputs": [],
   "source": [
    "coffee = pd.read_csv('./coffee-flavors.csv')"
   ]
  },
  {
   "cell_type": "code",
   "execution_count": 3,
   "metadata": {},
   "outputs": [
    {
     "name": "stdout",
     "output_type": "stream",
     "text": [
      "<class 'pandas.core.frame.DataFrame'>\n",
      "RangeIndex: 87 entries, 0 to 86\n",
      "Data columns (total 3 columns):\n",
      " #   Column   Non-Null Count  Dtype \n",
      "---  ------   --------------  ----- \n",
      " 0   ids      87 non-null     object\n",
      " 1   labels   87 non-null     object\n",
      " 2   parents  70 non-null     object\n",
      "dtypes: object(3)\n",
      "memory usage: 2.2+ KB\n"
     ]
    }
   ],
   "source": [
    "coffee.info()"
   ]
  },
  {
   "cell_type": "code",
   "execution_count": 4,
   "metadata": {},
   "outputs": [
    {
     "data": {
      "text/html": [
       "<div>\n",
       "<style scoped>\n",
       "    .dataframe tbody tr th:only-of-type {\n",
       "        vertical-align: middle;\n",
       "    }\n",
       "\n",
       "    .dataframe tbody tr th {\n",
       "        vertical-align: top;\n",
       "    }\n",
       "\n",
       "    .dataframe thead th {\n",
       "        text-align: right;\n",
       "    }\n",
       "</style>\n",
       "<table border=\"1\" class=\"dataframe\">\n",
       "  <thead>\n",
       "    <tr style=\"text-align: right;\">\n",
       "      <th></th>\n",
       "      <th>ids</th>\n",
       "      <th>labels</th>\n",
       "      <th>parents</th>\n",
       "    </tr>\n",
       "  </thead>\n",
       "  <tbody>\n",
       "    <tr>\n",
       "      <th>0</th>\n",
       "      <td>Enzymatic-Flowery</td>\n",
       "      <td>Flowery</td>\n",
       "      <td>NaN</td>\n",
       "    </tr>\n",
       "    <tr>\n",
       "      <th>1</th>\n",
       "      <td>Enzymatic-Fruity</td>\n",
       "      <td>Fruity</td>\n",
       "      <td>NaN</td>\n",
       "    </tr>\n",
       "    <tr>\n",
       "      <th>2</th>\n",
       "      <td>Enzymatic-Herby</td>\n",
       "      <td>Herby</td>\n",
       "      <td>NaN</td>\n",
       "    </tr>\n",
       "    <tr>\n",
       "      <th>3</th>\n",
       "      <td>Sugar Browning-Nutty</td>\n",
       "      <td>Nutty</td>\n",
       "      <td>NaN</td>\n",
       "    </tr>\n",
       "    <tr>\n",
       "      <th>4</th>\n",
       "      <td>Sugar Browning-Carmelly</td>\n",
       "      <td>Carmelly</td>\n",
       "      <td>NaN</td>\n",
       "    </tr>\n",
       "    <tr>\n",
       "      <th>...</th>\n",
       "      <td>...</td>\n",
       "      <td>...</td>\n",
       "      <td>...</td>\n",
       "    </tr>\n",
       "    <tr>\n",
       "      <th>82</th>\n",
       "      <td>Pungent-Thyme</td>\n",
       "      <td>Thyme</td>\n",
       "      <td>Spicy-Pungent</td>\n",
       "    </tr>\n",
       "    <tr>\n",
       "      <th>83</th>\n",
       "      <td>Smokey-Tarry</td>\n",
       "      <td>Tarry</td>\n",
       "      <td>Carbony-Smokey</td>\n",
       "    </tr>\n",
       "    <tr>\n",
       "      <th>84</th>\n",
       "      <td>Smokey-Pipe Tobacco</td>\n",
       "      <td>Pipe Tobacco</td>\n",
       "      <td>Carbony-Smokey</td>\n",
       "    </tr>\n",
       "    <tr>\n",
       "      <th>85</th>\n",
       "      <td>Ashy-Burnt</td>\n",
       "      <td>Burnt</td>\n",
       "      <td>Carbony-Ashy</td>\n",
       "    </tr>\n",
       "    <tr>\n",
       "      <th>86</th>\n",
       "      <td>Ashy-Charred</td>\n",
       "      <td>Charred</td>\n",
       "      <td>Carbony-Ashy</td>\n",
       "    </tr>\n",
       "  </tbody>\n",
       "</table>\n",
       "<p>87 rows × 3 columns</p>\n",
       "</div>"
      ],
      "text/plain": [
       "                        ids        labels         parents\n",
       "0         Enzymatic-Flowery       Flowery             NaN\n",
       "1          Enzymatic-Fruity        Fruity             NaN\n",
       "2           Enzymatic-Herby         Herby             NaN\n",
       "3      Sugar Browning-Nutty         Nutty             NaN\n",
       "4   Sugar Browning-Carmelly      Carmelly             NaN\n",
       "..                      ...           ...             ...\n",
       "82            Pungent-Thyme         Thyme   Spicy-Pungent\n",
       "83             Smokey-Tarry         Tarry  Carbony-Smokey\n",
       "84      Smokey-Pipe Tobacco  Pipe Tobacco  Carbony-Smokey\n",
       "85               Ashy-Burnt         Burnt    Carbony-Ashy\n",
       "86             Ashy-Charred       Charred    Carbony-Ashy\n",
       "\n",
       "[87 rows x 3 columns]"
      ]
     },
     "execution_count": 4,
     "metadata": {},
     "output_type": "execute_result"
    }
   ],
   "source": [
    "coffee"
   ]
  },
  {
   "cell_type": "code",
   "execution_count": 5,
   "metadata": {},
   "outputs": [
    {
     "data": {
      "text/plain": [
       "array(['Enzymatic-Flowery', 'Enzymatic-Fruity', 'Enzymatic-Herby',\n",
       "       'Sugar Browning-Nutty', 'Sugar Browning-Carmelly',\n",
       "       'Sugar Browning-Chocolatey', 'Dry Distillation-Resinous',\n",
       "       'Dry Distillation-Spicy', 'Dry Distillation-Carbony',\n",
       "       'Bitter-Pungent', 'Bitter-Harsh', 'Salt-Sharp', 'Salt-Bland',\n",
       "       'Sweet-Mellow', 'Sweet-Acidy', 'Sour-Winey', 'Sour-Soury',\n",
       "       'Flowery-Floral', 'Flowery-Fragrant', 'Fruity-Citrus',\n",
       "       'Fruity-Berry-like', 'Herby-Alliaceous', 'Herby-Leguminous',\n",
       "       'Nutty-Nut-like', 'Nutty-Malt-like', 'Carmelly-Candy-like',\n",
       "       'Carmelly-Syrup-like', 'Chocolatey-Chocolate-like',\n",
       "       'Chocolatey-Vanilla-like', 'Resinous-Turpeny',\n",
       "       'Resinous-Medicinal', 'Spicy-Warming', 'Spicy-Pungent',\n",
       "       'Carbony-Smokey', 'Carbony-Ashy', 'Pungent-Creosol',\n",
       "       'Pungent-Phenolic', 'Harsh-Caustic', 'Harsh-Alkaline',\n",
       "       'Sharp-Astringent', 'Sharp-Rough', 'Bland-Neutral', 'Bland-Soft',\n",
       "       'Mellow-Delicate', 'Mellow-Mild', 'Acidy-Nippy', 'Acidy-Piquant',\n",
       "       'Winey-Tangy', 'Winey-Tart', 'Soury-Hard', 'Soury-Acrid',\n",
       "       'Floral-Coffee Blossom', 'Floral-Tea Rose',\n",
       "       'Fragrant-Cardamon Caraway', 'Fragrant-Coriander Seeds',\n",
       "       'Citrus-Lemon', 'Citrus-Apple', 'Berry-like-Apricot',\n",
       "       'Berry-like-Blackberry', 'Alliaceous-Onion', 'Alliaceous-Garlic',\n",
       "       'Leguminous-Cucumber', 'Leguminous-Garden Peas',\n",
       "       'Nut-like-Roasted Peanuts', 'Nut-like-Walnuts',\n",
       "       'Malt-like-Balsamic Rice', 'Malt-like-Toast',\n",
       "       'Candy-like-Roasted Hazelnut', 'Candy-like-Roasted Almond',\n",
       "       'Syrup-like-Honey', 'Syrup-like-Maple Syrup',\n",
       "       'Chocolate-like-Bakers', 'Chocolate-like-Dark Chocolate',\n",
       "       'Vanilla-like-Swiss', 'Vanilla-like-Butter', 'Turpeny-Piney',\n",
       "       'Turpeny-Blackcurrant-like', 'Medicinal-Camphoric',\n",
       "       'Medicinal-Cineolic', 'Warming-Cedar', 'Warming-Pepper',\n",
       "       'Pungent-Clove', 'Pungent-Thyme', 'Smokey-Tarry',\n",
       "       'Smokey-Pipe Tobacco', 'Ashy-Burnt', 'Ashy-Charred'], dtype=object)"
      ]
     },
     "execution_count": 5,
     "metadata": {},
     "output_type": "execute_result"
    }
   ],
   "source": [
    "coffee['ids'].unique()"
   ]
  },
  {
   "cell_type": "code",
   "execution_count": 6,
   "metadata": {},
   "outputs": [
    {
     "data": {
      "text/plain": [
       "87"
      ]
     },
     "execution_count": 6,
     "metadata": {},
     "output_type": "execute_result"
    }
   ],
   "source": [
    "len(coffee['ids'].unique())"
   ]
  }
 ],
 "metadata": {
  "kernelspec": {
   "display_name": "pydash",
   "language": "python",
   "name": "python3"
  },
  "language_info": {
   "codemirror_mode": {
    "name": "ipython",
    "version": 3
   },
   "file_extension": ".py",
   "mimetype": "text/x-python",
   "name": "python",
   "nbconvert_exporter": "python",
   "pygments_lexer": "ipython3",
   "version": "3.9.13"
  }
 },
 "nbformat": 4,
 "nbformat_minor": 2
}
